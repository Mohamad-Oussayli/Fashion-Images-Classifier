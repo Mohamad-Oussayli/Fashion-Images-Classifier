{
 "cells": [
  {
   "cell_type": "markdown",
   "id": "af225612-2944-4646-9434-7405faf7aff6",
   "metadata": {},
   "source": [
    "### Introduction\n",
    "\n",
    "Classifying fashion items correctly is important for making shopping easier and managing stock better. With so many clothing items available online, automating \n",
    "this process can save time and improve how things are organized.\n",
    "\n",
    "This project leverages the MNIST Fashion dataset to predict one of ten clothing categories: T-shirt/top, Trouser, Pullover, Dress, Coat, Sandal, Shirt, Sneaker, \n",
    "Bag, or Ankle boot. By training a neural network model on this dataset, the goal is to develop a reliable system for classifying fashion items, ultimately aiding \n",
    "in the streamlining of fashion-related processes."
   ]
  },
  {
   "cell_type": "markdown",
   "id": "5d851c69-7b63-4574-88d7-4bcbdcc06b35",
   "metadata": {},
   "source": [
    "# Project Outline\n",
    "\n",
    "1. **Introduction**\n",
    "2. **Data Preparation**\n",
    "3. **Model Development**\n",
    "4. **Model Training**\n",
    "5. **Model Optimization**\n",
    "6. **Evaluation and Analysis**\n",
    "7. **Visualization**\n",
    "8. **Conclusion**"
   ]
  },
  {
   "cell_type": "code",
   "execution_count": 23,
   "id": "f45fd385-2189-45f0-b852-c0cdcb872ea3",
   "metadata": {},
   "outputs": [],
   "source": [
    "# Importing essential libraries for data manipulation and visualization\n",
    "import pandas as pd  # Importing pandas for data manipulation and analysis\n",
    "import numpy as np  # Importing numpy for numerical operations and array handling\n",
    "import matplotlib.pyplot as plt  # Importing matplotlib for data visualization\n",
    "from sklearn.model_selection import train_test_split  # Importing train_test_split for splitting the dataset\n",
    "from sklearn.metrics import classification_report, confusion_matrix  # Importing metrics for model evaluation\n",
    "\n",
    "# Importing libraries for building and tuning neural networks\n",
    "import tensorflow as tf  # Importing TensorFlow for building and training the neural network\n",
    "import keras_tuner as kt  # Importing Keras Tuner for hyperparameter tuning\n",
    "from tensorflow.keras.models import Sequential  # Importing Sequential to build a linear stack of layers for the model\n",
    "from tensorflow.keras.layers import Dense, Input, Dropout  # Importing layers for the neural network\n",
    "from tensorflow.keras.callbacks import EarlyStopping, ModelCheckpoint  # Importing callbacks to manage training"
   ]
  },
  {
   "cell_type": "code",
   "execution_count": null,
   "id": "2cf47147-642d-48dd-bdc0-db9a456862fc",
   "metadata": {},
   "outputs": [],
   "source": [
    "# List of split files in order\n",
    "files = [\n",
    "    'Fashion Train Data 1.csv',\n",
    "    'Fashion Train Data 2.csv',\n",
    "    'Fashion Train Data 3.csv',\n",
    "    'Fashion Train Data 4.csv',\n",
    "    'Fashion Train Data 5.csv',\n",
    "    'Fashion Train Data 6.csv'\n",
    "]\n",
    "\n",
    "# Load and concatenate the split CSV files\n",
    "df_full = pd.concat([pd.read_csv(f) for f in files])\n",
    "\n",
    "# Save the concatenated DataFrame to a new CSV file\n",
    "output_file = 'Fashion Train Data.csv'\n",
    "df_full.to_csv(output_file, index=False)"
   ]
  },
  {
   "cell_type": "markdown",
   "id": "ca694a62-7195-4132-877b-9698582dac52",
   "metadata": {},
   "source": [
    "### Explanation:\n",
    "\n",
    "This code merges the six split CSV files (`Fashion Train Data 1.csv` to `Fashion Train Data 6.csv`) back into a single dataset:\n",
    "\n",
    "- **Combine Files:** The code reads each file and concatenates them into one DataFrame.\n",
    "- **Save as One File:** The combined data is saved as `Fashion Train Data.csv`.\n",
    "\n",
    "This is necessary because the dataset was split due to GitHub's file size limits. Running this code recreates the full dataset for the project."
   ]
  },
  {
   "cell_type": "code",
   "execution_count": 24,
   "id": "2590ed0f-758f-49c5-907b-f9d139106516",
   "metadata": {},
   "outputs": [],
   "source": [
    "# Load training and testing data from CSV files\n",
    "train_data = pd.read_csv('Fashion Train Data.csv')  \n",
    "test_data = pd.read_csv('Fashion Test Data.csv') "
   ]
  },
  {
   "cell_type": "code",
   "execution_count": 25,
   "id": "4292900b-0d5b-465a-8124-c3a66e4ec4bb",
   "metadata": {},
   "outputs": [
    {
     "data": {
      "text/html": [
       "<div>\n",
       "<style scoped>\n",
       "    .dataframe tbody tr th:only-of-type {\n",
       "        vertical-align: middle;\n",
       "    }\n",
       "\n",
       "    .dataframe tbody tr th {\n",
       "        vertical-align: top;\n",
       "    }\n",
       "\n",
       "    .dataframe thead th {\n",
       "        text-align: right;\n",
       "    }\n",
       "</style>\n",
       "<table border=\"1\" class=\"dataframe\">\n",
       "  <thead>\n",
       "    <tr style=\"text-align: right;\">\n",
       "      <th></th>\n",
       "      <th>label</th>\n",
       "      <th>pixel1</th>\n",
       "      <th>pixel2</th>\n",
       "      <th>pixel3</th>\n",
       "      <th>pixel4</th>\n",
       "      <th>pixel5</th>\n",
       "      <th>pixel6</th>\n",
       "      <th>pixel7</th>\n",
       "      <th>pixel8</th>\n",
       "      <th>pixel9</th>\n",
       "      <th>...</th>\n",
       "      <th>pixel775</th>\n",
       "      <th>pixel776</th>\n",
       "      <th>pixel777</th>\n",
       "      <th>pixel778</th>\n",
       "      <th>pixel779</th>\n",
       "      <th>pixel780</th>\n",
       "      <th>pixel781</th>\n",
       "      <th>pixel782</th>\n",
       "      <th>pixel783</th>\n",
       "      <th>pixel784</th>\n",
       "    </tr>\n",
       "  </thead>\n",
       "  <tbody>\n",
       "    <tr>\n",
       "      <th>0</th>\n",
       "      <td>2</td>\n",
       "      <td>0</td>\n",
       "      <td>0</td>\n",
       "      <td>0</td>\n",
       "      <td>0</td>\n",
       "      <td>0</td>\n",
       "      <td>0</td>\n",
       "      <td>0</td>\n",
       "      <td>0</td>\n",
       "      <td>0</td>\n",
       "      <td>...</td>\n",
       "      <td>0</td>\n",
       "      <td>0</td>\n",
       "      <td>0</td>\n",
       "      <td>0</td>\n",
       "      <td>0</td>\n",
       "      <td>0</td>\n",
       "      <td>0</td>\n",
       "      <td>0</td>\n",
       "      <td>0</td>\n",
       "      <td>0</td>\n",
       "    </tr>\n",
       "    <tr>\n",
       "      <th>1</th>\n",
       "      <td>9</td>\n",
       "      <td>0</td>\n",
       "      <td>0</td>\n",
       "      <td>0</td>\n",
       "      <td>0</td>\n",
       "      <td>0</td>\n",
       "      <td>0</td>\n",
       "      <td>0</td>\n",
       "      <td>0</td>\n",
       "      <td>0</td>\n",
       "      <td>...</td>\n",
       "      <td>0</td>\n",
       "      <td>0</td>\n",
       "      <td>0</td>\n",
       "      <td>0</td>\n",
       "      <td>0</td>\n",
       "      <td>0</td>\n",
       "      <td>0</td>\n",
       "      <td>0</td>\n",
       "      <td>0</td>\n",
       "      <td>0</td>\n",
       "    </tr>\n",
       "  </tbody>\n",
       "</table>\n",
       "<p>2 rows × 785 columns</p>\n",
       "</div>"
      ],
      "text/plain": [
       "   label  pixel1  pixel2  pixel3  pixel4  pixel5  pixel6  pixel7  pixel8  \\\n",
       "0      2       0       0       0       0       0       0       0       0   \n",
       "1      9       0       0       0       0       0       0       0       0   \n",
       "\n",
       "   pixel9  ...  pixel775  pixel776  pixel777  pixel778  pixel779  pixel780  \\\n",
       "0       0  ...         0         0         0         0         0         0   \n",
       "1       0  ...         0         0         0         0         0         0   \n",
       "\n",
       "   pixel781  pixel782  pixel783  pixel784  \n",
       "0         0         0         0         0  \n",
       "1         0         0         0         0  \n",
       "\n",
       "[2 rows x 785 columns]"
      ]
     },
     "execution_count": 25,
     "metadata": {},
     "output_type": "execute_result"
    }
   ],
   "source": [
    "# Display the first 2 rows of the training dataset\n",
    "train_data.head(2) "
   ]
  },
  {
   "cell_type": "code",
   "execution_count": 26,
   "id": "84e7a3ac-45f9-4c0f-a50b-c79898100bf5",
   "metadata": {},
   "outputs": [
    {
     "data": {
      "text/html": [
       "<div>\n",
       "<style scoped>\n",
       "    .dataframe tbody tr th:only-of-type {\n",
       "        vertical-align: middle;\n",
       "    }\n",
       "\n",
       "    .dataframe tbody tr th {\n",
       "        vertical-align: top;\n",
       "    }\n",
       "\n",
       "    .dataframe thead th {\n",
       "        text-align: right;\n",
       "    }\n",
       "</style>\n",
       "<table border=\"1\" class=\"dataframe\">\n",
       "  <thead>\n",
       "    <tr style=\"text-align: right;\">\n",
       "      <th></th>\n",
       "      <th>label</th>\n",
       "      <th>pixel1</th>\n",
       "      <th>pixel2</th>\n",
       "      <th>pixel3</th>\n",
       "      <th>pixel4</th>\n",
       "      <th>pixel5</th>\n",
       "      <th>pixel6</th>\n",
       "      <th>pixel7</th>\n",
       "      <th>pixel8</th>\n",
       "      <th>pixel9</th>\n",
       "      <th>...</th>\n",
       "      <th>pixel775</th>\n",
       "      <th>pixel776</th>\n",
       "      <th>pixel777</th>\n",
       "      <th>pixel778</th>\n",
       "      <th>pixel779</th>\n",
       "      <th>pixel780</th>\n",
       "      <th>pixel781</th>\n",
       "      <th>pixel782</th>\n",
       "      <th>pixel783</th>\n",
       "      <th>pixel784</th>\n",
       "    </tr>\n",
       "  </thead>\n",
       "  <tbody>\n",
       "    <tr>\n",
       "      <th>0</th>\n",
       "      <td>0</td>\n",
       "      <td>0</td>\n",
       "      <td>0</td>\n",
       "      <td>0</td>\n",
       "      <td>0</td>\n",
       "      <td>0</td>\n",
       "      <td>0</td>\n",
       "      <td>0</td>\n",
       "      <td>9</td>\n",
       "      <td>8</td>\n",
       "      <td>...</td>\n",
       "      <td>103</td>\n",
       "      <td>87</td>\n",
       "      <td>56</td>\n",
       "      <td>0</td>\n",
       "      <td>0</td>\n",
       "      <td>0</td>\n",
       "      <td>0</td>\n",
       "      <td>0</td>\n",
       "      <td>0</td>\n",
       "      <td>0</td>\n",
       "    </tr>\n",
       "    <tr>\n",
       "      <th>1</th>\n",
       "      <td>1</td>\n",
       "      <td>0</td>\n",
       "      <td>0</td>\n",
       "      <td>0</td>\n",
       "      <td>0</td>\n",
       "      <td>0</td>\n",
       "      <td>0</td>\n",
       "      <td>0</td>\n",
       "      <td>0</td>\n",
       "      <td>0</td>\n",
       "      <td>...</td>\n",
       "      <td>34</td>\n",
       "      <td>0</td>\n",
       "      <td>0</td>\n",
       "      <td>0</td>\n",
       "      <td>0</td>\n",
       "      <td>0</td>\n",
       "      <td>0</td>\n",
       "      <td>0</td>\n",
       "      <td>0</td>\n",
       "      <td>0</td>\n",
       "    </tr>\n",
       "  </tbody>\n",
       "</table>\n",
       "<p>2 rows × 785 columns</p>\n",
       "</div>"
      ],
      "text/plain": [
       "   label  pixel1  pixel2  pixel3  pixel4  pixel5  pixel6  pixel7  pixel8  \\\n",
       "0      0       0       0       0       0       0       0       0       9   \n",
       "1      1       0       0       0       0       0       0       0       0   \n",
       "\n",
       "   pixel9  ...  pixel775  pixel776  pixel777  pixel778  pixel779  pixel780  \\\n",
       "0       8  ...       103        87        56         0         0         0   \n",
       "1       0  ...        34         0         0         0         0         0   \n",
       "\n",
       "   pixel781  pixel782  pixel783  pixel784  \n",
       "0         0         0         0         0  \n",
       "1         0         0         0         0  \n",
       "\n",
       "[2 rows x 785 columns]"
      ]
     },
     "execution_count": 26,
     "metadata": {},
     "output_type": "execute_result"
    }
   ],
   "source": [
    "# Display the first 2 rows of the testing dataset\n",
    "test_data.head(2) "
   ]
  },
  {
   "cell_type": "code",
   "execution_count": 27,
   "id": "d7984dd2-4c82-4834-8fa6-41aaaddaf41a",
   "metadata": {},
   "outputs": [],
   "source": [
    "# Extract features and labels from training and testing datasets\n",
    "\n",
    "X_train = train_data.iloc[:, 1:].values  # Training features: all columns except the first\n",
    "y_train = train_data.iloc[:, 0].values   # Training labels: first column\n",
    "X_test = test_data.iloc[:, 1:].values    # Testing features: all columns except the first\n",
    "y_test = test_data.iloc[:, 0].values    # Testing labels: first column"
   ]
  },
  {
   "cell_type": "markdown",
   "id": "e53a560f-3bc3-4d36-ac1f-3df290787523",
   "metadata": {},
   "source": [
    "- **`iloc[:, 1:]`**: This selects all rows and columns starting from the second column (index 1) to the last column. It effectively drops the first column, which contains the labels.\n",
    "- **`iloc[:, 0]`**: This selects the first column (index 0), which contains the labels.\n",
    "- **`.values`**: This converts the selected data into a NumPy array.\n"
   ]
  },
  {
   "cell_type": "code",
   "execution_count": 28,
   "id": "b6a5d052-fe0d-4b2a-a8c9-a3966c020141",
   "metadata": {},
   "outputs": [],
   "source": [
    "# Normalize the Pixel Values\n",
    "X_train = X_train / 255.0\n",
    "X_test = X_test / 255.0"
   ]
  },
  {
   "cell_type": "markdown",
   "id": "04276aab-2dc1-48e0-a1b3-ff3af03cc44e",
   "metadata": {},
   "source": [
    "### Why Normalize?\n",
    "\n",
    "Normalization scales pixel values to the range [0, 1], which helps the neural network converge faster and perform better by ensuring all\n",
    "features contribute equally during training."
   ]
  },
  {
   "cell_type": "code",
   "execution_count": 29,
   "id": "4bb4d783-1d8f-4ea9-8223-b81913b22e1a",
   "metadata": {},
   "outputs": [
    {
     "name": "stdout",
     "output_type": "stream",
     "text": [
      "The shape of the Training set (input) is (48000, 784)\n",
      "The shape of the Training set (target) is (48000,)\n",
      "The shape of the Cross Validation set (input) is (12000, 784)\n",
      "The shape of the Cross Validation set (target) is (12000,)\n"
     ]
    }
   ],
   "source": [
    "# Split the training data into training and cross-validation sets\n",
    "X_train, X_cv, y_train, y_cv = train_test_split(X_train, y_train, test_size=0.20, random_state=33)\n",
    "\n",
    "# Print shapes of the resulting datasets\n",
    "print(f'The shape of the Training set (input) is {X_train.shape}')\n",
    "print(f'The shape of the Training set (target) is {y_train.shape}')\n",
    "print(f'The shape of the Cross Validation set (input) is {X_cv.shape}')\n",
    "print(f'The shape of the Cross Validation set (target) is {y_cv.shape}')"
   ]
  },
  {
   "cell_type": "markdown",
   "id": "9fe91bf8-ecba-4c8a-9b66-7403bca0c5cf",
   "metadata": {},
   "source": [
    "### Explanation\n",
    "\n",
    "- **`train_test_split`**: This function splits the data into training and cross-validation sets. Here, 20% of the original training data is allocated to the cross-validation set.\n",
    "\n",
    "- **Shapes of the datasets**:\n",
    "  - **Training set (input)**: `(48000, 784)` indicates 48,000 samples with 784 features each.\n",
    "  - **Training set (target)**: `(48000,)` indicates 48,000 target labels.\n",
    "  - **Cross-validation set (input)**: `(12000, 784)` indicates 12,000 samples with 784 features each.\n",
    "  - **Cross-validation set (target)**: `(12000,)` indicates 12,000 target labels."
   ]
  },
  {
   "cell_type": "code",
   "execution_count": 30,
   "id": "964e9cfb-9b61-4009-bfbb-b4c81f14f1f4",
   "metadata": {},
   "outputs": [],
   "source": [
    "# Model Definition\n",
    "def create_model(dropout_rate=0.5, num_units1=128, num_units2=64):\n",
    "    # Initialize the Sequential model\n",
    "    model = Sequential([\n",
    "        Input(shape=(784,)),  # Input layer with 784 features (corresponding to 28x28 images flattened)\n",
    "        Dense(num_units1, activation='relu'),  # Fully connected layer with 'relu' activation and num_units1 neurons\n",
    "        Dropout(dropout_rate),  # Dropout layer for regularization\n",
    "        Dense(num_units2, activation='relu'),  # Fully connected layer with 'relu' activation and num_units2 neurons\n",
    "        Dropout(dropout_rate),  # Dropout layer for regularization\n",
    "        Dense(10, activation='softmax')  # Output layer with 10 neurons (one for each class) and 'softmax' activation for multi-class classification\n",
    "    ])\n",
    "    # Compile the model with Adam optimizer, sparse categorical crossentropy loss, and accuracy metric\n",
    "    model.compile(optimizer='adam',\n",
    "                  loss='sparse_categorical_crossentropy',\n",
    "                  metrics=['accuracy'])\n",
    "    return model"
   ]
  },
  {
   "cell_type": "markdown",
   "id": "edfc642d-3d99-4b91-952a-6f958393c51a",
   "metadata": {},
   "source": [
    "**Explanation:**\n",
    "\n",
    "* **`create_model` function:** Defines a neural network model with customizable parameters.\n",
    "* **Layers:**\n",
    "  * `Input(shape=(784,))`: The input layer expects data with 784 features (flattened 28x28 images).\n",
    "  * `Dense(num_units1, activation='relu')`: A fully connected layer with `num_units1` units and ReLU activation function.\n",
    "  * `Dropout(dropout_rate)`: A dropout layer to help prevent overfitting by randomly setting a fraction of input units to 0 during training.\n",
    "  * `Dense(num_units2, activation='relu')`: Another fully connected layer with `num_units2` units and ReLU activation function.\n",
    "  * `Dense(10, activation='softmax')`: The output layer with 10 units (for 10 classes) and softmax activation to provide class probabilities.\n",
    "* **Compilation:**\n",
    "  * **`optimizer='adam'`**: The Adam optimizer is used for training.\n",
    "  * **`loss='sparse_categorical_crossentropy'`**: The loss function suitable for multi-class classification problems.\n",
    "  * **`metrics=['accuracy']`**: Accuracy is used as the performance metric during training.\n",
    "\n",
    "This model setup is designed for classifying the fashion items into one of the 10 categories in your dataset."
   ]
  },
  {
   "cell_type": "code",
   "execution_count": 31,
   "id": "d04b8624-1d0f-4ba2-bd31-1ebe51884498",
   "metadata": {},
   "outputs": [],
   "source": [
    "# Define the EarlyStopping and ModelCheckpoint callbacks\n",
    "\n",
    "early_stopping = EarlyStopping(\n",
    "    monitor='val_loss',  # Monitor the validation loss during training\n",
    "    patience=3,  # Number of epochs to wait for improvement before stopping\n",
    "    restore_best_weights=True  # Restore the model weights from the epoch with the best validation loss\n",
    ")\n",
    "\n",
    "model_checkpoint = ModelCheckpoint(\n",
    "    'best_model.keras',  # File path to save the model\n",
    "    save_best_only=True  # Save only the model with the best performance on the validation data\n",
    ")"
   ]
  },
  {
   "cell_type": "markdown",
   "id": "4e24f919-4891-4c70-a575-5d4f14d82fd8",
   "metadata": {},
   "source": [
    "**Explanation:**\n",
    "\n",
    "* **`EarlyStopping` Callback:**\n",
    "  * **`monitor='val_loss'`**: Tracks the validation loss to decide when to stop training. If there's no improvement, training stops.\n",
    "  * **`patience=3`**: Stops training if there's no improvement in validation loss for 3 epochs. This helps avoid overfitting and saves time.\n",
    "  * **`restore_best_weights=True`**: Restores the model to the best weights observed during training, ensuring the best model is used.\n",
    "\n",
    "* **`ModelCheckpoint` Callback:**\n",
    "  * **`'best_model.keras'`**: Saves the model to this file path. It includes the model’s architecture and weights.\n",
    "  * **`save_best_only=True`**: Saves only the model with the best performance on validation data, avoiding saving less effective models.\n",
    "\n",
    "These callbacks help to save the best model and stop training when no improvements are seen, making the process more efficient."
   ]
  },
  {
   "cell_type": "code",
   "execution_count": 32,
   "id": "64c21587-19b7-438e-a837-bcf985d76e48",
   "metadata": {},
   "outputs": [
    {
     "name": "stdout",
     "output_type": "stream",
     "text": [
      "Epoch 1/10\n",
      "\u001b[1m1500/1500\u001b[0m \u001b[32m━━━━━━━━━━━━━━━━━━━━\u001b[0m\u001b[37m\u001b[0m \u001b[1m14s\u001b[0m 7ms/step - accuracy: 0.5808 - loss: 1.1590 - val_accuracy: 0.8210 - val_loss: 0.4878\n",
      "Epoch 2/10\n",
      "\u001b[1m1500/1500\u001b[0m \u001b[32m━━━━━━━━━━━━━━━━━━━━\u001b[0m\u001b[37m\u001b[0m \u001b[1m9s\u001b[0m 6ms/step - accuracy: 0.7779 - loss: 0.6213 - val_accuracy: 0.8273 - val_loss: 0.4761\n",
      "Epoch 3/10\n",
      "\u001b[1m1500/1500\u001b[0m \u001b[32m━━━━━━━━━━━━━━━━━━━━\u001b[0m\u001b[37m\u001b[0m \u001b[1m9s\u001b[0m 6ms/step - accuracy: 0.8023 - loss: 0.5629 - val_accuracy: 0.8381 - val_loss: 0.4335\n",
      "Epoch 4/10\n",
      "\u001b[1m1500/1500\u001b[0m \u001b[32m━━━━━━━━━━━━━━━━━━━━\u001b[0m\u001b[37m\u001b[0m \u001b[1m9s\u001b[0m 6ms/step - accuracy: 0.8146 - loss: 0.5220 - val_accuracy: 0.8517 - val_loss: 0.4050\n",
      "Epoch 5/10\n",
      "\u001b[1m1500/1500\u001b[0m \u001b[32m━━━━━━━━━━━━━━━━━━━━\u001b[0m\u001b[37m\u001b[0m \u001b[1m9s\u001b[0m 6ms/step - accuracy: 0.8238 - loss: 0.5078 - val_accuracy: 0.8545 - val_loss: 0.4004\n",
      "Epoch 6/10\n",
      "\u001b[1m1500/1500\u001b[0m \u001b[32m━━━━━━━━━━━━━━━━━━━━\u001b[0m\u001b[37m\u001b[0m \u001b[1m9s\u001b[0m 6ms/step - accuracy: 0.8289 - loss: 0.4917 - val_accuracy: 0.8508 - val_loss: 0.3910\n",
      "Epoch 7/10\n",
      "\u001b[1m1500/1500\u001b[0m \u001b[32m━━━━━━━━━━━━━━━━━━━━\u001b[0m\u001b[37m\u001b[0m \u001b[1m13s\u001b[0m 9ms/step - accuracy: 0.8265 - loss: 0.4802 - val_accuracy: 0.8540 - val_loss: 0.3926\n",
      "Epoch 8/10\n",
      "\u001b[1m1500/1500\u001b[0m \u001b[32m━━━━━━━━━━━━━━━━━━━━\u001b[0m\u001b[37m\u001b[0m \u001b[1m9s\u001b[0m 6ms/step - accuracy: 0.8297 - loss: 0.4758 - val_accuracy: 0.8591 - val_loss: 0.3942\n",
      "Epoch 9/10\n",
      "\u001b[1m1500/1500\u001b[0m \u001b[32m━━━━━━━━━━━━━━━━━━━━\u001b[0m\u001b[37m\u001b[0m \u001b[1m10s\u001b[0m 7ms/step - accuracy: 0.8362 - loss: 0.4687 - val_accuracy: 0.8594 - val_loss: 0.3800\n",
      "Epoch 10/10\n",
      "\u001b[1m1500/1500\u001b[0m \u001b[32m━━━━━━━━━━━━━━━━━━━━\u001b[0m\u001b[37m\u001b[0m \u001b[1m13s\u001b[0m 8ms/step - accuracy: 0.8386 - loss: 0.4597 - val_accuracy: 0.8549 - val_loss: 0.3802\n"
     ]
    }
   ],
   "source": [
    "# Initial model training\n",
    "initial_model = create_model()  # Create a new instance of the model\n",
    "history = initial_model.fit(\n",
    "    X_train, y_train,  # Training data and labels\n",
    "    epochs=10,  # Number of epochs to train the model\n",
    "    validation_data=(X_cv, y_cv),  # Validation data and labels to monitor performance\n",
    "    callbacks=[early_stopping, model_checkpoint]  # Callbacks for early stopping and saving the best model\n",
    ")"
   ]
  },
  {
   "cell_type": "markdown",
   "id": "997a438b-712a-496c-96b7-18224c02ddd3",
   "metadata": {},
   "source": [
    "**Summary:**\n",
    "- The model's accuracy and loss improved steadily over the 10 epochs.\n",
    "- Validation accuracy increased, indicating better model performance on unseen data.\n",
    "- Validation loss decreased, showing the model is learning to make better predictions."
   ]
  },
  {
   "cell_type": "code",
   "execution_count": 33,
   "id": "893ef83a-46db-40a2-b43c-21be027996c3",
   "metadata": {},
   "outputs": [
    {
     "name": "stdout",
     "output_type": "stream",
     "text": [
      "\u001b[1m313/313\u001b[0m \u001b[32m━━━━━━━━━━━━━━━━━━━━\u001b[0m\u001b[37m\u001b[0m \u001b[1m1s\u001b[0m 3ms/step - accuracy: 0.8602 - loss: 0.3781\n",
      "Initial Test accuracy: 0.8639\n",
      "Initial Test loss: 0.3788\n"
     ]
    }
   ],
   "source": [
    "# Evaluate the model on the test set\n",
    "test_loss, test_accuracy = initial_model.evaluate(X_test, y_test)  \n",
    "print(f'Initial Test accuracy: {test_accuracy:.4f}')  \n",
    "print(f'Initial Test loss: {test_loss:.4f}')  "
   ]
  },
  {
   "cell_type": "markdown",
   "id": "9676f518-f235-49f6-be52-26351711d3b3",
   "metadata": {},
   "source": [
    "**Evaluation Results:**\n",
    "- **Test Accuracy:** 86.39%\n",
    "  - This indicates that the model correctly classified 86.39% of the test images.\n",
    "- **Test Loss:** 0.3788\n",
    "  - This shows the average error made by the model on the test set.\n",
    "\n",
    "**Summary:**\n",
    "- **Test Accuracy vs. Validation Accuracy:** The test accuracy (86.39%) is slightly higher than the final validation accuracy (85.49%), suggesting that the model generalized well to unseen data.\n",
    "- **Test Loss vs. Validation Loss:** The test loss (0.3788) is slightly lower than the final validation loss (0.3802), indicating that the model's performance on the test set is consistent with its performance on the validation set.\n",
    "\n",
    "Overall, the model performed well on the test set, with accuracy close to the validation accuracy and loss comparable to the validation loss. This suggests that the model is effective in classifying fashion items and has not overfitted to the training or validation data."
   ]
  },
  {
   "cell_type": "code",
   "execution_count": 34,
   "id": "be820dbf-0e78-4f27-93fd-7b93c8900775",
   "metadata": {},
   "outputs": [
    {
     "name": "stdout",
     "output_type": "stream",
     "text": [
      "\u001b[1m313/313\u001b[0m \u001b[32m━━━━━━━━━━━━━━━━━━━━\u001b[0m\u001b[37m\u001b[0m \u001b[1m1s\u001b[0m 4ms/step\n",
      "Number of misclassified photos in the initial model: 1361\n"
     ]
    }
   ],
   "source": [
    "initial_predictions = initial_model.predict(X_test)  # Get the predicted probabilities for each class\n",
    "initial_predicted_labels = initial_predictions.argmax(axis=1)  # Convert probabilities to predicted class labels\n",
    "\n",
    "initial_misclassified = np.sum(initial_predicted_labels != y_test)  # Count how many predictions do not match the true labels\n",
    "print(f\"Number of misclassified photos in the initial model: {initial_misclassified}\")  # Display the count of misclassified photos"
   ]
  },
  {
   "cell_type": "markdown",
   "id": "2f39d643-f24a-4dc0-a54a-54dfd79ea802",
   "metadata": {},
   "source": [
    "**Number of Misclassified Photos:**\n",
    "- **Misclassified Photos:** 1,361\n",
    "\n",
    "**Summary:**\n",
    "- 1,361 test images were misclassified.\n",
    "- This corresponds to a misclassification rate of 13.61% (1,361 out of 10,000 images).\n",
    "- This reflects the model's accuracy and areas for potential improvement."
   ]
  },
  {
   "cell_type": "code",
   "execution_count": 35,
   "id": "82f86e38-60aa-4763-ae04-e2391c80f742",
   "metadata": {},
   "outputs": [
    {
     "name": "stdout",
     "output_type": "stream",
     "text": [
      "Classification Report for Initial Model:\n",
      "               precision    recall  f1-score   support\n",
      "\n",
      "           0       0.76      0.86      0.81      1000\n",
      "           1       0.98      0.98      0.98      1000\n",
      "           2       0.79      0.78      0.78      1000\n",
      "           3       0.83      0.92      0.88      1000\n",
      "           4       0.76      0.84      0.80      1000\n",
      "           5       0.96      0.93      0.95      1000\n",
      "           6       0.76      0.50      0.60      1000\n",
      "           7       0.93      0.90      0.91      1000\n",
      "           8       0.94      0.98      0.96      1000\n",
      "           9       0.90      0.96      0.93      1000\n",
      "\n",
      "    accuracy                           0.86     10000\n",
      "   macro avg       0.86      0.86      0.86     10000\n",
      "weighted avg       0.86      0.86      0.86     10000\n",
      "\n"
     ]
    }
   ],
   "source": [
    "# Print the classification report for the initial model\n",
    "print(\"Classification Report for Initial Model:\\n\", classification_report(y_test, initial_predicted_labels))"
   ]
  },
  {
   "cell_type": "markdown",
   "id": "51b28d6e-70ce-47d0-ab1f-ad3a192825c5",
   "metadata": {},
   "source": [
    "***Classification Report Summary:**\n",
    "\n",
    "- **Overall Accuracy:** 86%\n",
    "  - The model correctly classified 86% of the test images.\n",
    "\n",
    "- **High Precision and Recall:**\n",
    "  - **Class 1 (Ankle boot):** Precision: 0.98, Recall: 0.98\n",
    "    - The model is very accurate in predicting Class 1, with few false positives and negatives.\n",
    "  - **Class 5 (Sandal):** Precision: 0.96, Recall: 0.93\n",
    "    - The model performs well, correctly identifying most Sandals.\n",
    "  - **Class 8 (Sneaker):** Precision: 0.94, Recall: 0.98\n",
    "    - Strong performance in predicting Sneakers, with high precision and recall.\n",
    "\n",
    "- **Average Scores:**\n",
    "  - **Macro Average:** Precision: 0.86, Recall: 0.86, F1-Score: 0.86\n",
    "    - Averages the performance across all classes without considering class imbalance.\n",
    "  - **Weighted Average:** Precision: 0.86, Recall: 0.86, F1-Score: 0.86\n",
    "    - Takes into account class imbalance, reflecting the model's overall performance on the test set.\n",
    "\n",
    "The model demonstrates strong overall performance with particularly high accuracy for specific classes, and balanced precision and recall across the dataset."
   ]
  },
  {
   "cell_type": "code",
   "execution_count": 36,
   "id": "22c93693-70dd-4711-9ef5-0238c52fdb34",
   "metadata": {},
   "outputs": [
    {
     "name": "stdout",
     "output_type": "stream",
     "text": [
      "Confusion Matrix for Initial Model:\n",
      " [[857   0  15  63   0   0  47   0  17   1]\n",
      " [  3 976   3  17   0   0   1   0   0   0]\n",
      " [ 16   1 777  17 134   0  47   0   8   0]\n",
      " [ 20  12   8 924  22   0   9   0   5   0]\n",
      " [  0   0  71  44 840   0  40   0   5   0]\n",
      " [  2   0   0   0   0 931   0  35   5  27]\n",
      " [223   2 107  45 105   0 498   0  20   0]\n",
      " [  0   0   0   0   0  28   0 896   1  75]\n",
      " [  2   0   5   0   2   0  12   3 976   0]\n",
      " [  0   0   1   0   0   7   0  27   1 964]]\n"
     ]
    }
   ],
   "source": [
    "# Print the confusion matrix for the initial model\n",
    "print(\"Confusion Matrix for Initial Model:\\n\", confusion_matrix(y_test, initial_predicted_labels))"
   ]
  },
  {
   "cell_type": "markdown",
   "id": "de372e6b-298a-47b8-9c73-5340bf691050",
   "metadata": {},
   "source": [
    "**Summary:**\n",
    "\n",
    "- **Diagonal Elements:** Represent correct predictions for each class.\n",
    "- **Off-Diagonal Elements:** Represent misclassifications, showing where the model confuses one class for another.\n",
    "\n",
    "**Key Insights:**\n",
    "- The model performs well with high accuracy in most classes:\n",
    "  - **Class 1 (Trouser):** 976 correct predictions.\n",
    "  - **Class 5 (Sandal):** 931 correct predictions.\n",
    "  - **Class 8 (Bag):** 976 correct predictions.\n",
    "- Misclassifications are more frequent between similar-looking classes:\n",
    "  - **Class 2 (Pullover) vs. Class 4 (Coat):** 134 misclassifications of Pullover as Coat and 71 misclassifications of Coat as Pullover.\n",
    "\n",
    "This confusion matrix helps identify specific areas where the model might be improved by analyzing where it tends to make errors."
   ]
  },
  {
   "cell_type": "code",
   "execution_count": 37,
   "id": "7139d4a0-32cc-49a1-963e-e95503488de9",
   "metadata": {},
   "outputs": [],
   "source": [
    "def build_model(hp):\n",
    "    # Initialize a Sequential model\n",
    "    model = Sequential()\n",
    "    \n",
    "    # Input layer with 784 features (flattened image size of 28x28)\n",
    "    model.add(Input(shape=(784,)))\n",
    "\n",
    "    # First Dense layer with tunable number of units\n",
    "    # `hp.Int` is used to search for the optimal number of units\n",
    "    hp_units1 = hp.Int('units1', min_value=64, max_value=256, step=64)\n",
    "    model.add(Dense(units=hp_units1, activation='relu'))\n",
    "    \n",
    "    # Dropout layer with tunable dropout rate\n",
    "    # `hp.Float` is used to find the best dropout rate\n",
    "    hp_dropout1 = hp.Float('dropout1', min_value=0.3, max_value=0.7, step=0.2)\n",
    "    model.add(Dropout(rate=hp_dropout1))\n",
    "    \n",
    "    # Second Dense layer with tunable number of units\n",
    "    hp_units2 = hp.Int('units2', min_value=32, max_value=128, step=32)\n",
    "    model.add(Dense(units=hp_units2, activation='relu'))\n",
    "    \n",
    "    # Dropout layer for the second Dense layer with tunable dropout rate\n",
    "    hp_dropout2 = hp.Float('dropout2', min_value=0.3, max_value=0.7, step=0.2)\n",
    "    model.add(Dropout(rate=hp_dropout2))\n",
    "    \n",
    "    # Output layer with 10 units (one for each class) and softmax activation\n",
    "    model.add(Dense(10, activation='softmax'))\n",
    "    \n",
    "    # Compile the model with Adam optimizer and sparse categorical crossentropy loss\n",
    "    model.compile(optimizer='adam',\n",
    "                  loss='sparse_categorical_crossentropy',\n",
    "                  metrics=['accuracy'])\n",
    "    \n",
    "    return model"
   ]
  },
  {
   "cell_type": "markdown",
   "id": "6e06b3c6-37de-40af-aedf-5affd1071ece",
   "metadata": {},
   "source": [
    "### Explanation:\n",
    "\n",
    "- **Sequential Model:** Builds the neural network layer by layer.\n",
    "- **Input Layer:** Takes input of shape `(784,)`, representing flattened 28x28 images.\n",
    "- **Dense Layers:**\n",
    "  - **First Dense Layer:** With tunable units (`hp_units1`).\n",
    "  - **Second Dense Layer:** With tunable units (`hp_units2`).\n",
    "- **Dropout Layers:** Applied to prevent overfitting, with tunable dropout rates (`hp_dropout1` and `hp_dropout2`).\n",
    "- **Output Layer:** 10 units for class probabilities with softmax activation.\n",
    "- **Compilation:** Uses Adam optimizer and sparse categorical cross-entropy for multi-class classification.\n",
    "\n",
    "This function allows for hyperparameter tuning of units in dense layers and dropout rates using `keras_tuner`."
   ]
  },
  {
   "cell_type": "code",
   "execution_count": 38,
   "id": "aebd4953-9d52-4b5e-adfb-2dff596731e0",
   "metadata": {},
   "outputs": [
    {
     "name": "stdout",
     "output_type": "stream",
     "text": [
      "Trial 10 Complete [00h 01m 09s]\n",
      "val_accuracy: 0.8691666722297668\n",
      "\n",
      "Best val_accuracy So Far: 0.8799999952316284\n",
      "Total elapsed time: 00h 15m 50s\n",
      "Best units1: 256\n",
      "Best dropout1: 0.3\n",
      "Best units2: 32\n",
      "Best dropout2: 0.3\n"
     ]
    },
    {
     "name": "stderr",
     "output_type": "stream",
     "text": [
      "C:\\Users\\user\\Desktop\\DS TOOLS\\Python\\PYTHON\\Lib\\site-packages\\keras\\src\\saving\\saving_lib.py:713: UserWarning: Skipping variable loading for optimizer 'adam', because it has 2 variables whereas the saved optimizer has 14 variables. \n",
      "  saveable.load_own_variables(weights_store.get(inner_path))\n"
     ]
    }
   ],
   "source": [
    "# Initialize Keras Tuner with BayesianOptimization\n",
    "tuner = kt.BayesianOptimization(\n",
    "    build_model,\n",
    "    objective='val_accuracy',\n",
    "    max_trials=10,  # Number of hyperparameter combinations to try\n",
    "    directory='my_dir',\n",
    "    project_name='mnist_fashion_tuning'\n",
    ")\n",
    "\n",
    "\n",
    "# Start the search for the best hyperparameters\n",
    "tuner.search(X_train, y_train, epochs=10, validation_data=(X_cv, y_cv), verbose=2)\n",
    "\n",
    "# Retrieve the best model\n",
    "best_model = tuner.get_best_models(num_models=1)[0]\n",
    "\n",
    "# Get the best hyperparameters\n",
    "best_hp = tuner.get_best_hyperparameters(num_trials=1)[0]\n",
    "print(f\"Best units1: {best_hp.get('units1')}\")\n",
    "print(f\"Best dropout1: {best_hp.get('dropout1')}\")\n",
    "print(f\"Best units2: {best_hp.get('units2')}\")\n",
    "print(f\"Best dropout2: {best_hp.get('dropout2')}\")"
   ]
  },
  {
   "cell_type": "markdown",
   "id": "c73e9061-a861-4e36-87d3-8fdc521a80b7",
   "metadata": {},
   "source": [
    "### Output Analysis:\n",
    "\n",
    "- **Best Validation Accuracy:** 0.8799 (achieved by the best model during the search).\n",
    "- **Best Hyperparameters:**\n",
    "  - **First Hidden Layer:** 256\n",
    "  - **dropout1:** 0.3\n",
    "  - **Second Hidden Layer:** 32\n",
    "  - **dropout2:** 0.3\n",
    "\n",
    "The warning about skipping variable loading for the Adam optimizer indicates a discrepancy in the saved optimizer variables, which is not uncommon and usually does not affect the model’s performance.\n",
    "\n",
    "This output provides the best configuration of hyperparameters for the model, aiming to optimize its performance on the MNIST Fashion dataset."
   ]
  },
  {
   "cell_type": "code",
   "execution_count": 39,
   "id": "0f7dd515-443e-40ad-a9a0-c9174e127066",
   "metadata": {},
   "outputs": [
    {
     "name": "stdout",
     "output_type": "stream",
     "text": [
      "Epoch 1/10\n",
      "\u001b[1m1875/1875\u001b[0m \u001b[32m━━━━━━━━━━━━━━━━━━━━\u001b[0m\u001b[37m\u001b[0m \u001b[1m17s\u001b[0m 8ms/step - accuracy: 0.8687 - loss: 0.3746\n",
      "Epoch 2/10\n",
      "\u001b[1m1875/1875\u001b[0m \u001b[32m━━━━━━━━━━━━━━━━━━━━\u001b[0m\u001b[37m\u001b[0m \u001b[1m14s\u001b[0m 8ms/step - accuracy: 0.8699 - loss: 0.3631\n",
      "Epoch 3/10\n",
      "\u001b[1m1875/1875\u001b[0m \u001b[32m━━━━━━━━━━━━━━━━━━━━\u001b[0m\u001b[37m\u001b[0m \u001b[1m13s\u001b[0m 7ms/step - accuracy: 0.8725 - loss: 0.3578\n",
      "Epoch 4/10\n",
      "\u001b[1m1875/1875\u001b[0m \u001b[32m━━━━━━━━━━━━━━━━━━━━\u001b[0m\u001b[37m\u001b[0m \u001b[1m14s\u001b[0m 7ms/step - accuracy: 0.8716 - loss: 0.3572\n",
      "Epoch 5/10\n",
      "\u001b[1m1875/1875\u001b[0m \u001b[32m━━━━━━━━━━━━━━━━━━━━\u001b[0m\u001b[37m\u001b[0m \u001b[1m14s\u001b[0m 7ms/step - accuracy: 0.8790 - loss: 0.3328\n",
      "Epoch 6/10\n",
      "\u001b[1m1875/1875\u001b[0m \u001b[32m━━━━━━━━━━━━━━━━━━━━\u001b[0m\u001b[37m\u001b[0m \u001b[1m13s\u001b[0m 7ms/step - accuracy: 0.8779 - loss: 0.3366\n",
      "Epoch 7/10\n",
      "\u001b[1m1875/1875\u001b[0m \u001b[32m━━━━━━━━━━━━━━━━━━━━\u001b[0m\u001b[37m\u001b[0m \u001b[1m13s\u001b[0m 7ms/step - accuracy: 0.8803 - loss: 0.3336\n",
      "Epoch 8/10\n",
      "\u001b[1m1875/1875\u001b[0m \u001b[32m━━━━━━━━━━━━━━━━━━━━\u001b[0m\u001b[37m\u001b[0m \u001b[1m13s\u001b[0m 7ms/step - accuracy: 0.8820 - loss: 0.3278\n",
      "Epoch 9/10\n",
      "\u001b[1m1875/1875\u001b[0m \u001b[32m━━━━━━━━━━━━━━━━━━━━\u001b[0m\u001b[37m\u001b[0m \u001b[1m14s\u001b[0m 7ms/step - accuracy: 0.8853 - loss: 0.3176\n",
      "Epoch 10/10\n",
      "\u001b[1m1875/1875\u001b[0m \u001b[32m━━━━━━━━━━━━━━━━━━━━\u001b[0m\u001b[37m\u001b[0m \u001b[1m13s\u001b[0m 7ms/step - accuracy: 0.8821 - loss: 0.3227\n"
     ]
    },
    {
     "data": {
      "text/plain": [
       "<keras.src.callbacks.history.History at 0x1ec3558fbf0>"
      ]
     },
     "execution_count": 39,
     "metadata": {},
     "output_type": "execute_result"
    }
   ],
   "source": [
    "# Combine training and cross-validation data\n",
    "X_combined = np.concatenate((X_train, X_cv))  \n",
    "y_combined = np.concatenate((y_train, y_cv))  \n",
    "\n",
    "# Train the best model on the combined dataset\n",
    "best_model.fit(X_combined, y_combined, epochs=10, verbose=1) "
   ]
  },
  {
   "cell_type": "markdown",
   "id": "ca4cf17f-7b33-4f82-a6dd-bbe726a057a8",
   "metadata": {},
   "source": [
    "### Summary:\n",
    "\n",
    "- **Accuracy Improvement:** The model's accuracy increased from 86.87% to 88.21% over 10 epochs, showing steady improvement in performance.\n",
    "- **Loss Reduction:** The loss decreased from 0.3746 to 0.3227, indicating that the model's predictions are becoming more accurate.\n",
    "- **Stability:** The accuracy and loss values stabilized towards the end, suggesting the model has converged and is performing well on the combined training and cross-validation data.\n",
    "\n",
    "This training process indicates that the model is effectively learning from the data and improving its classification performance."
   ]
  },
  {
   "cell_type": "code",
   "execution_count": 40,
   "id": "4fc9b904-25bb-478a-81f0-aff60e2ba8ce",
   "metadata": {},
   "outputs": [
    {
     "name": "stdout",
     "output_type": "stream",
     "text": [
      "\u001b[1m313/313\u001b[0m \u001b[32m━━━━━━━━━━━━━━━━━━━━\u001b[0m\u001b[37m\u001b[0m \u001b[1m1s\u001b[0m 4ms/step - accuracy: 0.8791 - loss: 0.3179\n",
      "Final Test accuracy: 0.8846\n",
      "Final Test loss: 0.3192\n"
     ]
    }
   ],
   "source": [
    "# Evaluate the final model on the test set\n",
    "final_test_loss, final_test_accuracy = best_model.evaluate(X_test, y_test)\n",
    "\n",
    "print(f'Final Test accuracy: {final_test_accuracy:.4f}')  # Accuracy of the model on the test data\n",
    "print(f'Final Test loss: {final_test_loss:.4f}')        # Loss of the model on the test data"
   ]
  },
  {
   "cell_type": "markdown",
   "id": "fb45c395-03af-4510-b668-2ec7f3ad2b04",
   "metadata": {},
   "source": [
    "## Output Interpretation\n",
    "\n",
    "### Final Test Accuracy\n",
    "- **Value:** 88.46%\n",
    "- **Interpretation:** This indicates that the final model correctly classified approximately 88.46% of the test images, demonstrating strong performance. This represents an improvement from the initial test accuracy of 86.39%.\n",
    "\n",
    "### Final Test Loss\n",
    "- **Value:** 0.3192\n",
    "- **Interpretation:** The test loss is relatively low, reflecting that the model's predictions are close to the true labels, indicating good model generalization. This is an improvement from the initial test loss of 0.3788\n",
    "\n",
    "### Summary\n",
    "Overall, the hyperparameter tuning process has led to a clear improvement in both accuracy and loss on the test set, confirming that the tuning effectively enhanced the model's performance."
   ]
  },
  {
   "cell_type": "code",
   "execution_count": 41,
   "id": "2560d19d-ab80-48d2-9101-21f8370a58a9",
   "metadata": {},
   "outputs": [
    {
     "name": "stdout",
     "output_type": "stream",
     "text": [
      "\u001b[1m313/313\u001b[0m \u001b[32m━━━━━━━━━━━━━━━━━━━━\u001b[0m\u001b[37m\u001b[0m \u001b[1m1s\u001b[0m 4ms/step\n",
      "Number of misclassified photos in the optimal model: 1154\n"
     ]
    }
   ],
   "source": [
    "optimized_predictions = best_model.predict(X_test)  # Predict probabilities for each class\n",
    "optimized_predicted_labels = np.argmax(optimized_predictions, axis=1)  # Convert probabilities to class labels\n",
    "\n",
    "optimal_misclassified = np.sum(optimized_predicted_labels != y_test)  # Count misclassified examples\n",
    "print(f\"Number of misclassified photos in the optimal model: {optimal_misclassified}\")"
   ]
  },
  {
   "cell_type": "markdown",
   "id": "90e9621a-242c-4a65-a520-38be28724140",
   "metadata": {},
   "source": [
    "## Output Interpretation\n",
    "\n",
    "### Number of Misclassified Photos\n",
    "- **Value:** 1,154\n",
    "- **Interpretation:** Out of the 10,000 test images, the final model misclassified 1,154 images.\n",
    "\n",
    "### Comparison to Initial Evaluation\n",
    "\n",
    "- **Initial Misclassifications:** 1,361\n",
    "- **Optimal Misclassifications:** 1,154\n",
    "- **Improvement:** The number of misclassified photos has decreased from 1,361 to 1,154, showing an improvement of 207 misclassified examples. \n",
    "This reflects better performance of the optimized model compared to the initial model."
   ]
  },
  {
   "cell_type": "code",
   "execution_count": 42,
   "id": "50d40f47-257d-4cdf-9773-5f9d0c097362",
   "metadata": {},
   "outputs": [
    {
     "name": "stdout",
     "output_type": "stream",
     "text": [
      "Classification Report for Optimized Model:\n",
      "               precision    recall  f1-score   support\n",
      "\n",
      "           0       0.80      0.86      0.83      1000\n",
      "           1       0.99      0.99      0.99      1000\n",
      "           2       0.82      0.81      0.82      1000\n",
      "           3       0.88      0.91      0.89      1000\n",
      "           4       0.81      0.84      0.83      1000\n",
      "           5       0.99      0.94      0.96      1000\n",
      "           6       0.75      0.63      0.68      1000\n",
      "           7       0.93      0.92      0.92      1000\n",
      "           8       0.97      0.97      0.97      1000\n",
      "           9       0.91      0.97      0.94      1000\n",
      "\n",
      "    accuracy                           0.88     10000\n",
      "   macro avg       0.88      0.88      0.88     10000\n",
      "weighted avg       0.88      0.88      0.88     10000\n",
      "\n"
     ]
    }
   ],
   "source": [
    "# Classification Report for Optimized Model\n",
    "print(\"Classification Report for Optimized Model:\\n\", classification_report(y_test, optimized_predicted_labels))"
   ]
  },
  {
   "cell_type": "markdown",
   "id": "0cf2bf1d-653a-40e4-8531-cfd7ab30694f",
   "metadata": {},
   "source": [
    "## Classification Report for Optimized Model\n",
    "\n",
    "### Overall Accuracy\n",
    "- **Value:** 88.46%\n",
    "- **Improvement:** Increased by 2.07 percentage points from 86.39%.\n",
    "\n",
    "\n",
    "### High Precision and Recall\n",
    "- **Class 1 (Ankle boot):** Precision: 0.99, Recall: 0.99\n",
    "  - **Interpretation:** Very few false positives or negatives.\n",
    "- **Class 5 (Sandal):** Precision: 0.99, Recall: 0.94\n",
    "  - **Interpretation:** High performance with accurate predictions.\n",
    "- * **Class 8 (Sneaker):** Precision: 0.97, Recall: 0.97\n",
    "  - **Interpretation:** Strong performance with high precision and recall.\n",
    "\n",
    "### Average Scores\n",
    "\n",
    "- **Macro Average:** Precision: 0.88, Recall: 0.88, F1-Score: 0.88\n",
    "  - **Interpretation:** Shows a well-rounded improvement across all classes.\n",
    "- **Weighted Average:** Precision: 0.88, Recall: 0.88, F1-Score: 0.88\n",
    "  - **Interpretation:** Reflects the model’s performance considering class imbalance.\n",
    "\n",
    "### Comparison to Initial Model\n",
    "\n",
    "- **Accuracy:**\n",
    "  - **Initial Model:** 86.39%\n",
    "  - **Optimized Model:** 88.46%\n",
    "  - **Improvement:** +2.07 percentage points\n",
    "\n",
    "- **Average Scores:**\n",
    "  - **Initial Model Macro Average:** Precision: 0.86, Recall: 0.86, F1-Score: 0.86\n",
    "  - **Optimized Model Macro Average:** Precision: 0.88, Recall: 0.88, F1-Score: 0.88\n",
    "\n",
    "### Summary\n",
    "Overall, the optimized model demonstrates significant improvements in accuracy, precision, and recall, with notable gains in class-specific performance compared to the initial model."
   ]
  },
  {
   "cell_type": "code",
   "execution_count": 43,
   "id": "beb6fe1b-33ac-46c7-b8fa-7e6e6282d2b4",
   "metadata": {},
   "outputs": [
    {
     "name": "stdout",
     "output_type": "stream",
     "text": [
      "Confusion Matrix for Optimized Model:\n",
      " [[859   0  10  48   0   0  75   0   8   0]\n",
      " [  3 988   0   9   0   0   0   0   0   0]\n",
      " [ 17   0 815  12  89   0  65   0   2   0]\n",
      " [ 16  11   8 913  38   0  11   0   3   0]\n",
      " [  1   1  74  22 844   0  57   0   1   0]\n",
      " [  1   0   0   0   0 937   0  39   3  20]\n",
      " [178   1  76  34  71   0 629   0  11   0]\n",
      " [  0   0   0   0   0   7   0 915   0  78]\n",
      " [  5   0   7   3   2   1   5   3 974   0]\n",
      " [  0   0   0   0   0   5   0  22   1 972]]\n"
     ]
    }
   ],
   "source": [
    "# Print the confusion matrix for the optimized model\n",
    "print(\"Confusion Matrix for Optimized Model:\\n\", confusion_matrix(y_test, optimized_predicted_labels))"
   ]
  },
  {
   "cell_type": "markdown",
   "id": "e905a5e0-2c94-4ee7-bf37-89ea1acf83a8",
   "metadata": {},
   "source": [
    "## Key Observations\n",
    "\n",
    "### High Accuracy in Most Classes\n",
    "- **Trouser (1):** Perfect accuracy with all 988 samples correctly classified.\n",
    "- **Sandal (5):** High accuracy with 937 correctly classified, but some misclassifications into other classes.\n",
    "- **Sneaker (7):** Very high accuracy with 915 correctly classified.\n",
    "\n",
    "### Misclassifications\n",
    "- **Shirt (6):** Frequently misclassified as T-shirt/top (178), Pullover (76), and Coat (71). Indicates potential overlap with similar classes.\n",
    "- **Pullover (2):** Misclassified into Dress (89), suggesting similarity with Dress.\n",
    "\n",
    "### Misclassification Patterns\n",
    "- **Coat (4) and Pullover (2):** Significant confusion between these two classes (74 misclassifications).\n",
    "- **Ankle boot (9):** While there are some misclassifications into Sneaker (22 cases) and other classes, this class generally performs well.\n",
    "\n",
    "### Summary\n",
    "The optimized model exhibits strong performance with high precision and recall in most classes. Misclassifications are primarily seen between visually similar classes, such as Pullover and Coat, and Shirt with T-shirt/top. These patterns suggest potential areas for further training or refinement to improve differentiation between similar classes."
   ]
  },
  {
   "cell_type": "code",
   "execution_count": 44,
   "id": "8fe39720-4173-48b5-a51f-2039505f8b3a",
   "metadata": {},
   "outputs": [],
   "source": [
    "# The label_map dictionary maps integer labels to their corresponding class names\n",
    "label_map = {\n",
    "    0: 'T-shirt/top',\n",
    "    1: 'Trouser',\n",
    "    2: 'Pullover',\n",
    "    3: 'Dress',\n",
    "    4: 'Coat',\n",
    "    5: 'Sandal',\n",
    "    6: 'Shirt',\n",
    "    7: 'Sneaker',\n",
    "    8: 'Bag',\n",
    "    9: 'Ankle boot'\n",
    "}"
   ]
  },
  {
   "cell_type": "code",
   "execution_count": 45,
   "id": "d01e03ad-12aa-4b4b-b60e-1e2908b3bcb7",
   "metadata": {},
   "outputs": [
    {
     "name": "stdout",
     "output_type": "stream",
     "text": [
      "\u001b[1m313/313\u001b[0m \u001b[32m━━━━━━━━━━━━━━━━━━━━\u001b[0m\u001b[37m\u001b[0m \u001b[1m1s\u001b[0m 3ms/step\n"
     ]
    }
   ],
   "source": [
    "# Make Predictions with Initial Model\n",
    "initial_predictions = initial_model.predict(X_test)\n",
    "initial_predicted_labels = np.argmax(initial_predictions, axis=1)\n",
    "initial_misclassified_indices = np.where(initial_predicted_labels != y_test)[0]"
   ]
  },
  {
   "cell_type": "code",
   "execution_count": 46,
   "id": "99afac80-b721-4127-b07f-7e8d7a6022c4",
   "metadata": {},
   "outputs": [
    {
     "name": "stdout",
     "output_type": "stream",
     "text": [
      "\u001b[1m313/313\u001b[0m \u001b[32m━━━━━━━━━━━━━━━━━━━━\u001b[0m\u001b[37m\u001b[0m \u001b[1m1s\u001b[0m 4ms/step\n"
     ]
    }
   ],
   "source": [
    "# Make Predictions with Optimized Model\n",
    "optimized_predictions = best_model.predict(X_test)\n",
    "optimized_predicted_labels = np.argmax(optimized_predictions, axis=1)\n",
    "optimized_misclassified_indices = np.where(optimized_predicted_labels != y_test)[0]"
   ]
  },
  {
   "cell_type": "code",
   "execution_count": 47,
   "id": "05a92aaf-77fb-477a-b328-7c451468669d",
   "metadata": {},
   "outputs": [
    {
     "data": {
      "image/png": "[encoded data removed]",
      "text/plain": [
       "<Figure size 1200x800 with 12 Axes>"
      ]
     },
     "metadata": {},
     "output_type": "display_data"
    }
   ],
   "source": [
    "# Number of images to display\n",
    "num_images = 5  # Adjusted to display 5 images\n",
    "\n",
    "# Create a figure with two subplots stacked vertically\n",
    "fig, axes = plt.subplots(2, 1, figsize=(12, 8))  # Adjusted the figure size to better fit 5 images\n",
    "\n",
    "# Plot Misclassified Images for Initial Model\n",
    "axes[0].set_title('Misclassified Images - Initial Model', fontsize=16)\n",
    "for i, index in enumerate(initial_misclassified_indices[:num_images]):  # Plot first 5 misclassified images\n",
    "    ax = plt.subplot(2, num_images, i + 1)  # Create subplot in a 2x5 grid\n",
    "    ax.imshow(X_test[index].reshape(28, 28), cmap='Blues')  # Reshape the flattened image\n",
    "    true_label_name = label_map[y_test[index]]\n",
    "    pred_label_name = label_map[initial_predicted_labels[index]]\n",
    "    ax.set_title(f'True: {true_label_name}\\nPred: {pred_label_name}', fontsize=10)\n",
    "    ax.axis('off')\n",
    "\n",
    "# Plot Misclassified Images for Optimized Model\n",
    "axes[1].set_title('Misclassified Images - Optimized Model', fontsize=16)\n",
    "for i, index in enumerate(optimized_misclassified_indices[:num_images]):  # Plot first 5 misclassified images\n",
    "    ax = plt.subplot(2, num_images, i + 1 + num_images)  # Shift the index for the second row\n",
    "    ax.imshow(X_test[index].reshape(28, 28), cmap='Blues')  # Reshape the flattened image\n",
    "    true_label_name = label_map[y_test[index]]\n",
    "    pred_label_name = label_map[optimized_predicted_labels[index]]\n",
    "    ax.set_title(f'True: {true_label_name}\\nPred: {pred_label_name}', fontsize=10)\n",
    "    ax.axis('off')\n",
    "\n",
    "plt.tight_layout()\n",
    "plt.show()"
   ]
  },
  {
   "cell_type": "markdown",
   "id": "b9ca3eb6-1d4a-4643-ae4c-e9347a4136b9",
   "metadata": {},
   "source": [
    "## Key Observations\n",
    "This plot highlights that the optimized model has effectively corrected certain misclassifications made by the initial model. Notably, the first and second misclassified images in the initial model's plot are no longer present in the optimized model's plot. This demonstrates that the adjustments made, such as hyperparameter tuning or architectural changes, have improved the model's ability to accurately classify challenging cases."
   ]
  },
  {
   "cell_type": "markdown",
   "id": "eda32149-150d-40ba-bf3b-feec6026c69e",
   "metadata": {},
   "source": [
    "## Conclusion\n",
    "\n",
    "This project successfully demonstrates the process of building, optimizing, and evaluating a neural network model for image classification using the MNIST Fashion dataset.\n",
    "\n",
    "### Key Outcomes\n",
    "\n",
    "- **Model Improvement:** The final model showed a significant accuracy increase from 86.36% to 88.46% through hyperparameter tuning and optimization, with a corresponding reduction in loss, indicating better generalization and prediction accuracy.\n",
    "\n",
    "- **Evaluation Metrics:** Analysis of the classification report and confusion matrix highlighted the model’s strengths, with improvements in correctly classifying images that were previously misclassified by the initial model.\n",
    "\n",
    "- **Visualization:** Visualizations, such as misclassified images, provided insights into the model’s behavior, demonstrating how the optimized model corrected errors made by the initial model.\n",
    "\n",
    "### Overall\n",
    "\n",
    "The project exemplifies a structured approach to machine learning model development, achieving a notable enhancement in performance. The final model’s strong results make it a reliable classifier and a solid foundation for further exploration and refinement in neural network development."
   ]
  }
 ],
 "metadata": {
  "kernelspec": {
   "display_name": "Python 3 (ipykernel)",
   "language": "python",
   "name": "python3"
  },
  "language_info": {
   "codemirror_mode": {
    "name": "ipython",
    "version": 3
   },
   "file_extension": ".py",
   "mimetype": "text/x-python",
   "name": "python",
   "nbconvert_exporter": "python",
   "pygments_lexer": "ipython3",
   "version": "3.12.2"
  }
 },
 "nbformat": 4,
 "nbformat_minor": 5
}
